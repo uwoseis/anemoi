{
 "cells": [
  {
   "cell_type": "markdown",
   "metadata": {},
   "source": [
    "# Testing Environment for Times.py file\n",
    "Shaun Hadden & Brendan Smithyman | October, 2015"
   ]
  },
  {
   "cell_type": "markdown",
   "metadata": {},
   "source": [
    "## Imports"
   ]
  },
  {
   "cell_type": "code",
   "execution_count": 4,
   "metadata": {
    "collapsed": false
   },
   "outputs": [
    {
     "ename": "ImportError",
     "evalue": "cannot import name Keuper",
     "output_type": "error",
     "traceback": [
      "\u001b[0;31m---------------------------------------------------------------------------\u001b[0m",
      "\u001b[0;31mImportError\u001b[0m                               Traceback (most recent call last)",
      "\u001b[0;32m<ipython-input-4-de16026e4bc9>\u001b[0m in \u001b[0;36m<module>\u001b[0;34m()\u001b[0m\n\u001b[1;32m      4\u001b[0m \u001b[0;32mfrom\u001b[0m \u001b[0manemoi\u001b[0m \u001b[0;32mimport\u001b[0m \u001b[0mEurus\u001b[0m\u001b[0;34m,\u001b[0m \u001b[0mStackedSimpleSource\u001b[0m\u001b[0;34m\u001b[0m\u001b[0m\n\u001b[1;32m      5\u001b[0m \u001b[0;31m#from time import Forward\u001b[0m\u001b[0;34m\u001b[0m\u001b[0;34m\u001b[0m\u001b[0m\n\u001b[0;32m----> 6\u001b[0;31m \u001b[0;32mfrom\u001b[0m \u001b[0mtime\u001b[0m \u001b[0;32mimport\u001b[0m \u001b[0mKeuper\u001b[0m\u001b[0;34m\u001b[0m\u001b[0m\n\u001b[0m\u001b[1;32m      7\u001b[0m \u001b[0;32mfrom\u001b[0m \u001b[0mtime\u001b[0m \u001b[0;32mimport\u001b[0m \u001b[0msourceFFT\u001b[0m\u001b[0;34m\u001b[0m\u001b[0m\n\u001b[1;32m      8\u001b[0m \u001b[0;32mfrom\u001b[0m \u001b[0mtime\u001b[0m \u001b[0;32mimport\u001b[0m \u001b[0miFFT\u001b[0m\u001b[0;34m\u001b[0m\u001b[0m\n",
      "\u001b[0;31mImportError\u001b[0m: cannot import name Keuper"
     ]
    }
   ],
   "source": [
    "import sys\n",
    "sys.path.append('../')\n",
    "import numpy as np\n",
    "from anemoi import Eurus, StackedSimpleSource\n",
    "from time import Forward \n",
    "from time import Keuper \n",
    "from time import sourceFFT \n",
    "from time import iFFT"
   ]
  },
  {
   "cell_type": "code",
   "execution_count": null,
   "metadata": {
    "collapsed": true
   },
   "outputs": [],
   "source": [
    "import matplotlib.pyplot as plt\n",
    "import matplotlib.cm as cm\n",
    "import matplotlib\n",
    "\n",
    "%matplotlib inline\n",
    "\n",
    "from IPython.display import set_matplotlib_formats\n",
    "set_matplotlib_formats('png')\n",
    "matplotlib.rcParams['savefig.dpi'] = 150 # Change this to adjust figure size"
   ]
  },
  {
   "cell_type": "markdown",
   "metadata": {},
   "source": [
    "## Helper functions"
   ]
  },
  {
   "cell_type": "code",
   "execution_count": null,
   "metadata": {
    "collapsed": true
   },
   "outputs": [],
   "source": [
    "class Source(object):\n",
    "    \n",
    "    def __init__(self, sc):\n",
    "                \n",
    "        self._x, self._z = np.mgrid[\n",
    "            0:sc['dx']*sc['nx']:sc['dx'],\n",
    "            0:sc['dz']*sc['nz']:sc['dz']\n",
    "        ]\n",
    "    \n",
    "    def __call__(self, x, z):\n",
    "        \n",
    "        dist = np.sqrt((self._x - x)**2 + (self._z - z)**2)\n",
    "        srcterm = 1.*(dist == dist.min())\n",
    "        nz, nx = self._x.shape\n",
    "        \n",
    "        return np.hstack([srcterm.T.ravel() / srcterm.sum(), np.zeros(nx*nz, dtype=np.complex128)])"
   ]
  },
  {
   "cell_type": "markdown",
   "metadata": {},
   "source": [
    "## Modelling setup"
   ]
  },
  {
   "cell_type": "code",
   "execution_count": null,
   "metadata": {
    "collapsed": true
   },
   "outputs": [],
   "source": [
    "# Geometry parameters\n",
    "dx          = 1.\n",
    "dz          = 1.\n",
    "nx          = 100\n",
    "nz          = 200\n",
    "\n",
    "# Bulk parameters\n",
    "velocity    = 2000.     * np.ones((nz,nx))\n",
    "density     = 1.        * np.ones((nz,nx))\n",
    "\n",
    "# Anisotropy parameters\n",
    "theta       = 0.        * np.ones((nz,nx))\n",
    "epsilon     = 0.       * np.ones((nz,nx))\n",
    "delta       = 0.       * np.ones((nz,nx))\n",
    "\n",
    "# Other parameters\n",
    "freq        = 200.\n",
    "freeSurf    = [False, False, False, False]\n",
    "nPML        = 10\n",
    "tau         = 0.4\n",
    "\n",
    "# Source and Modelling Parameters\n",
    "\n",
    "f_max       = 4. \n",
    "source_freq = f_max\n",
    "\n",
    "#   determine the maximum length of the Model\n",
    "xMax = (nx-1) * dx\n",
    "zMax = (nz-1) * dz\n",
    "LMax = np.max([xmax,zmax])\n",
    "\n",
    "cMin = velocity.min()\n",
    "\n",
    "#calculate the smallest wavelength, in meters\n",
    "lambdaMin = cMin / fMax\n",
    "\n",
    " #   determine the maximum modelled time from the maximum length of the grid\n",
    "#   and the minimum velocity\n",
    "\n",
    "tMax = 2 * (LMax / cMin)\n",
    "\n",
    "#time-domain damping factor\n",
    "\n",
    "\n",
    "tau = fDamp * tMax\n",
    "\n",
    "#   determine the frequency interval from the maximum modelled time\n",
    "\n",
    "df= 1 / tMax\n",
    "\n",
    "#determine the number of frequencies\n",
    "\n",
    "nf = fMax / df\n",
    "\n",
    "#   determine the sampling interval and number of time domain samples\n",
    "\n",
    "dt = 1 / (2 * fMax)\n",
    "nt = tMax / dt\n",
    "\n",
    "# Pack values into systemConfig dictionary\n",
    "systemConfig = {\n",
    "    'nx':       nx,\n",
    "    'nz':       nz,\n",
    "    'dx':       dx,\n",
    "    'dz':       dz,\n",
    "\n",
    "    'c':        velocity,\n",
    "    'rho':      density,\n",
    "    \n",
    "    'theta':    theta,\n",
    "    'eps':      epsilon,\n",
    "    'delta':    delta,\n",
    "\n",
    "    'freq':     freq,\n",
    "    'freeSurf': freeSurf,\n",
    "    'nPML':     nPML,\n",
    "    'cPML':     1e3,\n",
    "    \n",
    "    'tau':      tau,\n",
    "    'f_max':    f_max, \n",
    "    'source_freq': source_freq,\n",
    "    'nt':       nt\n",
    "    'nf':       nf\n",
    "    'df':       df\n",
    "    'nf':       nf\n",
    "}"
   ]
  },
  {
   "cell_type": "markdown",
   "metadata": {},
   "source": [
    "## Testing"
   ]
  },
  {
   "cell_type": "code",
   "execution_count": null,
   "metadata": {
    "collapsed": false
   },
   "outputs": [],
   "source": [
    "T = time(systemConfig)\n",
    "#print T._freq_range"
   ]
  },
  {
   "cell_type": "code",
   "execution_count": null,
   "metadata": {
    "collapsed": false
   },
   "outputs": [],
   "source": [
    "Ainv = Eurus(systemConfig)\n",
    "src = Source(systemConfig)\n",
    "#src = StackedSimpleSource(systemConfig)"
   ]
  },
  {
   "cell_type": "code",
   "execution_count": null,
   "metadata": {
    "collapsed": false
   },
   "outputs": [],
   "source": [
    "plt.spy(Ainv.A, markersize=0.1, marker=',')"
   ]
  },
  {
   "cell_type": "code",
   "execution_count": null,
   "metadata": {
    "collapsed": false
   },
   "outputs": [],
   "source": [
    "q = src(50,100)\n",
    "u = Ainv*q"
   ]
  },
  {
   "cell_type": "code",
   "execution_count": null,
   "metadata": {
    "collapsed": false
   },
   "outputs": [],
   "source": [
    "clip = 1e-1\n",
    "\n",
    "plotopts = {\n",
    "    'extent':   [0, nx*dx, nz*dz, 0],\n",
    "    'cmap':     cm.bwr,\n",
    "    'vmin':     -clip,\n",
    "    'vmax':     clip,\n",
    "}\n",
    "\n",
    "fig = plt.figure()\n",
    "\n",
    "ax = fig.add_subplot(1,1,1, aspect=1)\n",
    "plt.imshow(u[:nx*nz].reshape((nz,nx)).real, **plotopts)\n",
    "plt.title('Real Wavefield')\n",
    "plt.xlabel('X')\n",
    "plt.ylabel('Z')"
   ]
  },
  {
   "cell_type": "code",
   "execution_count": null,
   "metadata": {
    "collapsed": false
   },
   "outputs": [],
   "source": [
    "time"
   ]
  },
  {
   "cell_type": "code",
   "execution_count": null,
   "metadata": {
    "collapsed": true
   },
   "outputs": [],
   "source": []
  }
 ],
 "metadata": {
  "kernelspec": {
   "display_name": "Python 2",
   "language": "python",
   "name": "python2"
  }
 },
 "nbformat": 4,
 "nbformat_minor": 0
}
